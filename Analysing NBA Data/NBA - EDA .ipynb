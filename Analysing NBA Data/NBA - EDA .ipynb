{
 "cells": [
  {
   "cell_type": "markdown",
   "id": "d667b41d",
   "metadata": {},
   "source": [
    "<font size=+3 color=\"#3B3534\"><center><b>Analysing NBA Data</b></center></font>"
   ]
  },
  {
   "cell_type": "markdown",
   "id": "cc8659ee",
   "metadata": {},
   "source": [
    "###  Introduction"
   ]
  },
  {
   "cell_type": "markdown",
   "id": "c98d65cb",
   "metadata": {},
   "source": [
    "The National Basketball Association (NBA) is one of the major professional sports leagues in the United States and Canada and is considered the best professional basketball league in the world. Exploratory Data Analysis (EDA) using Python is performed with the goal of discovering new information and answering the questions such as top players based on the salary, top teams based on the most represented players, and average salary of players in each team."
   ]
  },
  {
   "cell_type": "markdown",
   "id": "9e1bbb2d",
   "metadata": {},
   "source": [
    "**Table of Contents**\n",
    "1. [Introduction](#Introduction)\n",
    "2. [Importing Libraries](#Importing-Libraries)\n",
    "3. [Load Data](#Load-Data)\n",
    "4. [Data Cleaning](#Data-Cleaning)\n",
    "5. [Data Transformation](#Data-Transformation)\n",
    "5. [EDA](#Exploratory-Data-Analysis-(EDA))\n",
    "6. [Conclusions](#Conclusions) \n"
   ]
  },
  {
   "cell_type": "markdown",
   "id": "3401473e",
   "metadata": {},
   "source": [
    "### Importing Libraries"
   ]
  },
  {
   "cell_type": "code",
   "execution_count": 44,
   "id": "f9c676d2",
   "metadata": {},
   "outputs": [],
   "source": [
    "#import Python libraries\n",
    "\n",
    "import pandas as pd                  # importing pandas library for data manipulation\n",
    "import matplotlib.pyplot as plt      # importing pyplot interface using matplotlib\n",
    "import seaborn as sns                # importing seaborm library for interactive visualization\n",
    "\n",
    "import warnings                      # importing warnings to disable runtime warnings\n",
    "warnings.filterwarnings(\"ignore\")\n"
   ]
  },
  {
   "cell_type": "markdown",
   "id": "ebfd3c12",
   "metadata": {},
   "source": [
    "### Load Data"
   ]
  },
  {
   "cell_type": "code",
   "execution_count": 45,
   "id": "658efd17",
   "metadata": {},
   "outputs": [],
   "source": [
    "#Load the nba.csv data into a Pandas DataFrame\n",
    "df = pd.read_csv('nba.csv', encoding = \"unicode_escape\")\n"
   ]
  },
  {
   "cell_type": "code",
   "execution_count": 46,
   "id": "a58cfb3f",
   "metadata": {},
   "outputs": [
    {
     "data": {
      "text/plain": [
       "(457, 8)"
      ]
     },
     "execution_count": 46,
     "metadata": {},
     "output_type": "execute_result"
    }
   ],
   "source": [
    "#number of rows and columns\n",
    "df.shape"
   ]
  },
  {
   "cell_type": "code",
   "execution_count": 47,
   "id": "b3803a85",
   "metadata": {},
   "outputs": [
    {
     "name": "stdout",
     "output_type": "stream",
     "text": [
      "<class 'pandas.core.frame.DataFrame'>\n",
      "RangeIndex: 457 entries, 0 to 456\n",
      "Data columns (total 8 columns):\n",
      " #   Column    Non-Null Count  Dtype  \n",
      "---  ------    --------------  -----  \n",
      " 0   Name      457 non-null    object \n",
      " 1   Team      457 non-null    object \n",
      " 2   Number    457 non-null    int64  \n",
      " 3   Position  457 non-null    object \n",
      " 4   Age       457 non-null    int64  \n",
      " 5   Weight    457 non-null    int64  \n",
      " 6   College   373 non-null    object \n",
      " 7   Salary    446 non-null    float64\n",
      "dtypes: float64(1), int64(3), object(4)\n",
      "memory usage: 28.7+ KB\n"
     ]
    }
   ],
   "source": [
    "# Basic information\n",
    "df.info()"
   ]
  },
  {
   "cell_type": "code",
   "execution_count": 48,
   "id": "6e173810",
   "metadata": {},
   "outputs": [
    {
     "data": {
      "text/html": [
       "<div>\n",
       "<style scoped>\n",
       "    .dataframe tbody tr th:only-of-type {\n",
       "        vertical-align: middle;\n",
       "    }\n",
       "\n",
       "    .dataframe tbody tr th {\n",
       "        vertical-align: top;\n",
       "    }\n",
       "\n",
       "    .dataframe thead th {\n",
       "        text-align: right;\n",
       "    }\n",
       "</style>\n",
       "<table border=\"1\" class=\"dataframe\">\n",
       "  <thead>\n",
       "    <tr style=\"text-align: right;\">\n",
       "      <th></th>\n",
       "      <th>Name</th>\n",
       "      <th>Team</th>\n",
       "      <th>Number</th>\n",
       "      <th>Position</th>\n",
       "      <th>Age</th>\n",
       "      <th>Weight</th>\n",
       "      <th>College</th>\n",
       "      <th>Salary</th>\n",
       "    </tr>\n",
       "  </thead>\n",
       "  <tbody>\n",
       "    <tr>\n",
       "      <th>0</th>\n",
       "      <td>Avery Bradley</td>\n",
       "      <td>Boston Celtics</td>\n",
       "      <td>0</td>\n",
       "      <td>PG</td>\n",
       "      <td>25</td>\n",
       "      <td>180</td>\n",
       "      <td>Texas</td>\n",
       "      <td>7730337.0</td>\n",
       "    </tr>\n",
       "    <tr>\n",
       "      <th>1</th>\n",
       "      <td>Jae Crowder</td>\n",
       "      <td>Boston Celtics</td>\n",
       "      <td>99</td>\n",
       "      <td>SF</td>\n",
       "      <td>25</td>\n",
       "      <td>235</td>\n",
       "      <td>Marquette</td>\n",
       "      <td>6796117.0</td>\n",
       "    </tr>\n",
       "    <tr>\n",
       "      <th>2</th>\n",
       "      <td>John Holland</td>\n",
       "      <td>Boston Celtics</td>\n",
       "      <td>30</td>\n",
       "      <td>SG</td>\n",
       "      <td>27</td>\n",
       "      <td>205</td>\n",
       "      <td>Boston University</td>\n",
       "      <td>NaN</td>\n",
       "    </tr>\n",
       "    <tr>\n",
       "      <th>3</th>\n",
       "      <td>R.J. Hunter</td>\n",
       "      <td>Boston Celtics</td>\n",
       "      <td>28</td>\n",
       "      <td>SG</td>\n",
       "      <td>22</td>\n",
       "      <td>185</td>\n",
       "      <td>Georgia State</td>\n",
       "      <td>1148640.0</td>\n",
       "    </tr>\n",
       "    <tr>\n",
       "      <th>4</th>\n",
       "      <td>Jonas Jerebko</td>\n",
       "      <td>Boston Celtics</td>\n",
       "      <td>8</td>\n",
       "      <td>PF</td>\n",
       "      <td>29</td>\n",
       "      <td>231</td>\n",
       "      <td>NaN</td>\n",
       "      <td>5000000.0</td>\n",
       "    </tr>\n",
       "  </tbody>\n",
       "</table>\n",
       "</div>"
      ],
      "text/plain": [
       "            Name            Team  Number Position  Age  Weight  \\\n",
       "0  Avery Bradley  Boston Celtics       0       PG   25     180   \n",
       "1    Jae Crowder  Boston Celtics      99       SF   25     235   \n",
       "2   John Holland  Boston Celtics      30       SG   27     205   \n",
       "3    R.J. Hunter  Boston Celtics      28       SG   22     185   \n",
       "4  Jonas Jerebko  Boston Celtics       8       PF   29     231   \n",
       "\n",
       "             College     Salary  \n",
       "0              Texas  7730337.0  \n",
       "1          Marquette  6796117.0  \n",
       "2  Boston University        NaN  \n",
       "3      Georgia State  1148640.0  \n",
       "4                NaN  5000000.0  "
      ]
     },
     "execution_count": 48,
     "metadata": {},
     "output_type": "execute_result"
    }
   ],
   "source": [
    "# First five rows\n",
    "df.head(5)\n"
   ]
  },
  {
   "cell_type": "code",
   "execution_count": 49,
   "id": "4ea52564",
   "metadata": {},
   "outputs": [
    {
     "data": {
      "text/html": [
       "<div>\n",
       "<style scoped>\n",
       "    .dataframe tbody tr th:only-of-type {\n",
       "        vertical-align: middle;\n",
       "    }\n",
       "\n",
       "    .dataframe tbody tr th {\n",
       "        vertical-align: top;\n",
       "    }\n",
       "\n",
       "    .dataframe thead th {\n",
       "        text-align: right;\n",
       "    }\n",
       "</style>\n",
       "<table border=\"1\" class=\"dataframe\">\n",
       "  <thead>\n",
       "    <tr style=\"text-align: right;\">\n",
       "      <th></th>\n",
       "      <th>Number</th>\n",
       "      <th>Age</th>\n",
       "      <th>Weight</th>\n",
       "      <th>Salary</th>\n",
       "    </tr>\n",
       "  </thead>\n",
       "  <tbody>\n",
       "    <tr>\n",
       "      <th>count</th>\n",
       "      <td>457.000000</td>\n",
       "      <td>457.000000</td>\n",
       "      <td>457.000000</td>\n",
       "      <td>4.460000e+02</td>\n",
       "    </tr>\n",
       "    <tr>\n",
       "      <th>mean</th>\n",
       "      <td>17.678337</td>\n",
       "      <td>26.938731</td>\n",
       "      <td>221.522976</td>\n",
       "      <td>4.842684e+06</td>\n",
       "    </tr>\n",
       "    <tr>\n",
       "      <th>std</th>\n",
       "      <td>15.966090</td>\n",
       "      <td>4.404016</td>\n",
       "      <td>26.368343</td>\n",
       "      <td>5.229238e+06</td>\n",
       "    </tr>\n",
       "    <tr>\n",
       "      <th>min</th>\n",
       "      <td>0.000000</td>\n",
       "      <td>19.000000</td>\n",
       "      <td>161.000000</td>\n",
       "      <td>3.088800e+04</td>\n",
       "    </tr>\n",
       "    <tr>\n",
       "      <th>25%</th>\n",
       "      <td>5.000000</td>\n",
       "      <td>24.000000</td>\n",
       "      <td>200.000000</td>\n",
       "      <td>1.044792e+06</td>\n",
       "    </tr>\n",
       "    <tr>\n",
       "      <th>50%</th>\n",
       "      <td>13.000000</td>\n",
       "      <td>26.000000</td>\n",
       "      <td>220.000000</td>\n",
       "      <td>2.839073e+06</td>\n",
       "    </tr>\n",
       "    <tr>\n",
       "      <th>75%</th>\n",
       "      <td>25.000000</td>\n",
       "      <td>30.000000</td>\n",
       "      <td>240.000000</td>\n",
       "      <td>6.500000e+06</td>\n",
       "    </tr>\n",
       "    <tr>\n",
       "      <th>max</th>\n",
       "      <td>99.000000</td>\n",
       "      <td>40.000000</td>\n",
       "      <td>307.000000</td>\n",
       "      <td>2.500000e+07</td>\n",
       "    </tr>\n",
       "  </tbody>\n",
       "</table>\n",
       "</div>"
      ],
      "text/plain": [
       "           Number         Age      Weight        Salary\n",
       "count  457.000000  457.000000  457.000000  4.460000e+02\n",
       "mean    17.678337   26.938731  221.522976  4.842684e+06\n",
       "std     15.966090    4.404016   26.368343  5.229238e+06\n",
       "min      0.000000   19.000000  161.000000  3.088800e+04\n",
       "25%      5.000000   24.000000  200.000000  1.044792e+06\n",
       "50%     13.000000   26.000000  220.000000  2.839073e+06\n",
       "75%     25.000000   30.000000  240.000000  6.500000e+06\n",
       "max     99.000000   40.000000  307.000000  2.500000e+07"
      ]
     },
     "execution_count": 49,
     "metadata": {},
     "output_type": "execute_result"
    }
   ],
   "source": [
    "# Descriptive statistics of numerical columns\n",
    "df.describe()\n"
   ]
  },
  {
   "cell_type": "markdown",
   "id": "74cddbb6",
   "metadata": {},
   "source": [
    "### Data Cleaning"
   ]
  },
  {
   "cell_type": "markdown",
   "id": "dff28be0",
   "metadata": {},
   "source": [
    "#### Handling missing values"
   ]
  },
  {
   "cell_type": "code",
   "execution_count": 50,
   "id": "7a3fc72d",
   "metadata": {},
   "outputs": [
    {
     "data": {
      "text/plain": [
       "Name         0\n",
       "Team         0\n",
       "Number       0\n",
       "Position     0\n",
       "Age          0\n",
       "Weight       0\n",
       "College     84\n",
       "Salary      11\n",
       "dtype: int64"
      ]
     },
     "execution_count": 50,
     "metadata": {},
     "output_type": "execute_result"
    }
   ],
   "source": [
    "# Checking the number of missing values in each column\n",
    "pd.isnull(df).sum()\n"
   ]
  },
  {
   "cell_type": "markdown",
   "id": "e455dbf1",
   "metadata": {},
   "source": [
    "Observation - The columns - 'College' and 'Salary' consists of null values. The null values in 'College' column are replaced with the value 'Others' assuming the college names of some players are not listed in the list. The null values in 'Salary' column are replaced with the mean value of the 'Salary' column."
   ]
  },
  {
   "cell_type": "code",
   "execution_count": 51,
   "id": "0dc0ebfa",
   "metadata": {},
   "outputs": [],
   "source": [
    "#replacing the null values in 'College' column with 'Others'\n",
    "df['College'].fillna('Others', inplace = True)\n"
   ]
  },
  {
   "cell_type": "code",
   "execution_count": 52,
   "id": "2f2d94bc",
   "metadata": {},
   "outputs": [
    {
     "data": {
      "text/plain": [
       "0"
      ]
     },
     "execution_count": 52,
     "metadata": {},
     "output_type": "execute_result"
    }
   ],
   "source": [
    "#verifying if there is any null values in 'College' column\n",
    "pd.isnull(df['College']).sum()\n"
   ]
  },
  {
   "cell_type": "code",
   "execution_count": 53,
   "id": "fb766f0a",
   "metadata": {},
   "outputs": [],
   "source": [
    "#replacing the null values in 'Salary' column with it's mean value\n",
    "df['Salary'].fillna(df['Salary'].mean(), inplace = True)\n"
   ]
  },
  {
   "cell_type": "code",
   "execution_count": 54,
   "id": "77c2fe03",
   "metadata": {},
   "outputs": [
    {
     "data": {
      "text/plain": [
       "0"
      ]
     },
     "execution_count": 54,
     "metadata": {},
     "output_type": "execute_result"
    }
   ],
   "source": [
    "#verifying if there is any null values in 'Salary' column\n",
    "pd.isnull(df['Salary']).sum()\n"
   ]
  },
  {
   "cell_type": "code",
   "execution_count": 55,
   "id": "e076fd8f",
   "metadata": {},
   "outputs": [
    {
     "data": {
      "text/plain": [
       "Name        0\n",
       "Team        0\n",
       "Number      0\n",
       "Position    0\n",
       "Age         0\n",
       "Weight      0\n",
       "College     0\n",
       "Salary      0\n",
       "dtype: int64"
      ]
     },
     "execution_count": 55,
     "metadata": {},
     "output_type": "execute_result"
    }
   ],
   "source": [
    "#checking the number of missing values in each column\n",
    "pd.isnull(df).sum()\n"
   ]
  },
  {
   "cell_type": "markdown",
   "id": "96bcd1f3",
   "metadata": {},
   "source": [
    "Observation - There are no missing values in the dataset"
   ]
  },
  {
   "cell_type": "markdown",
   "id": "a526e12b",
   "metadata": {},
   "source": [
    "#### Handling duplicate rows"
   ]
  },
  {
   "cell_type": "code",
   "execution_count": 56,
   "id": "3eb3d982",
   "metadata": {},
   "outputs": [
    {
     "data": {
      "text/plain": [
       "0"
      ]
     },
     "execution_count": 56,
     "metadata": {},
     "output_type": "execute_result"
    }
   ],
   "source": [
    "#to get the sum of duplicate elements in the dataset\n",
    "df.duplicated().sum()\n"
   ]
  },
  {
   "cell_type": "markdown",
   "id": "43e28608",
   "metadata": {},
   "source": [
    "Observation - There are no duplicate elements in the dataset"
   ]
  },
  {
   "cell_type": "markdown",
   "id": "9c7b945b",
   "metadata": {},
   "source": [
    "### Data Transformation"
   ]
  },
  {
   "cell_type": "code",
   "execution_count": 57,
   "id": "69ed34a2",
   "metadata": {},
   "outputs": [
    {
     "data": {
      "text/plain": [
       "Index(['Name', 'Team', 'Number', 'Position', 'Age', 'Weight', 'College',\n",
       "       'Salary'],\n",
       "      dtype='object')"
      ]
     },
     "execution_count": 57,
     "metadata": {},
     "output_type": "execute_result"
    }
   ],
   "source": [
    "#get column names\n",
    "df.columns\n"
   ]
  },
  {
   "cell_type": "code",
   "execution_count": 58,
   "id": "d6febccf",
   "metadata": {},
   "outputs": [],
   "source": [
    "#Create a new column 'BMI' (Body Mass Index) using the formula: BMI = (weight in pounds / (height in inches)^2) * 703.\n",
    "#Assuming a fixed height value of 70 inches (5 feet 10 inches)\n",
    "\n",
    "df['BMI'] = (df['Weight'] / (70**2)) * 703\n"
   ]
  },
  {
   "cell_type": "code",
   "execution_count": 59,
   "id": "b368c172",
   "metadata": {},
   "outputs": [
    {
     "data": {
      "text/html": [
       "<div>\n",
       "<style scoped>\n",
       "    .dataframe tbody tr th:only-of-type {\n",
       "        vertical-align: middle;\n",
       "    }\n",
       "\n",
       "    .dataframe tbody tr th {\n",
       "        vertical-align: top;\n",
       "    }\n",
       "\n",
       "    .dataframe thead th {\n",
       "        text-align: right;\n",
       "    }\n",
       "</style>\n",
       "<table border=\"1\" class=\"dataframe\">\n",
       "  <thead>\n",
       "    <tr style=\"text-align: right;\">\n",
       "      <th></th>\n",
       "      <th>Name</th>\n",
       "      <th>Team</th>\n",
       "      <th>Number</th>\n",
       "      <th>Position</th>\n",
       "      <th>Age</th>\n",
       "      <th>Weight</th>\n",
       "      <th>College</th>\n",
       "      <th>Salary</th>\n",
       "      <th>BMI</th>\n",
       "    </tr>\n",
       "  </thead>\n",
       "  <tbody>\n",
       "    <tr>\n",
       "      <th>0</th>\n",
       "      <td>Avery Bradley</td>\n",
       "      <td>Boston Celtics</td>\n",
       "      <td>0</td>\n",
       "      <td>PG</td>\n",
       "      <td>25</td>\n",
       "      <td>180</td>\n",
       "      <td>Texas</td>\n",
       "      <td>7.730337e+06</td>\n",
       "      <td>25.824490</td>\n",
       "    </tr>\n",
       "    <tr>\n",
       "      <th>1</th>\n",
       "      <td>Jae Crowder</td>\n",
       "      <td>Boston Celtics</td>\n",
       "      <td>99</td>\n",
       "      <td>SF</td>\n",
       "      <td>25</td>\n",
       "      <td>235</td>\n",
       "      <td>Marquette</td>\n",
       "      <td>6.796117e+06</td>\n",
       "      <td>33.715306</td>\n",
       "    </tr>\n",
       "    <tr>\n",
       "      <th>2</th>\n",
       "      <td>John Holland</td>\n",
       "      <td>Boston Celtics</td>\n",
       "      <td>30</td>\n",
       "      <td>SG</td>\n",
       "      <td>27</td>\n",
       "      <td>205</td>\n",
       "      <td>Boston University</td>\n",
       "      <td>4.842684e+06</td>\n",
       "      <td>29.411224</td>\n",
       "    </tr>\n",
       "    <tr>\n",
       "      <th>3</th>\n",
       "      <td>R.J. Hunter</td>\n",
       "      <td>Boston Celtics</td>\n",
       "      <td>28</td>\n",
       "      <td>SG</td>\n",
       "      <td>22</td>\n",
       "      <td>185</td>\n",
       "      <td>Georgia State</td>\n",
       "      <td>1.148640e+06</td>\n",
       "      <td>26.541837</td>\n",
       "    </tr>\n",
       "    <tr>\n",
       "      <th>4</th>\n",
       "      <td>Jonas Jerebko</td>\n",
       "      <td>Boston Celtics</td>\n",
       "      <td>8</td>\n",
       "      <td>PF</td>\n",
       "      <td>29</td>\n",
       "      <td>231</td>\n",
       "      <td>Others</td>\n",
       "      <td>5.000000e+06</td>\n",
       "      <td>33.141429</td>\n",
       "    </tr>\n",
       "  </tbody>\n",
       "</table>\n",
       "</div>"
      ],
      "text/plain": [
       "            Name            Team  Number Position  Age  Weight  \\\n",
       "0  Avery Bradley  Boston Celtics       0       PG   25     180   \n",
       "1    Jae Crowder  Boston Celtics      99       SF   25     235   \n",
       "2   John Holland  Boston Celtics      30       SG   27     205   \n",
       "3    R.J. Hunter  Boston Celtics      28       SG   22     185   \n",
       "4  Jonas Jerebko  Boston Celtics       8       PF   29     231   \n",
       "\n",
       "             College        Salary        BMI  \n",
       "0              Texas  7.730337e+06  25.824490  \n",
       "1          Marquette  6.796117e+06  33.715306  \n",
       "2  Boston University  4.842684e+06  29.411224  \n",
       "3      Georgia State  1.148640e+06  26.541837  \n",
       "4             Others  5.000000e+06  33.141429  "
      ]
     },
     "execution_count": 59,
     "metadata": {},
     "output_type": "execute_result"
    }
   ],
   "source": [
    "#the first five rows\n",
    "df.head(5)\n"
   ]
  },
  {
   "cell_type": "markdown",
   "id": "e411afd3",
   "metadata": {},
   "source": [
    "Observation - The new column 'BMI' is added to dataframe"
   ]
  },
  {
   "cell_type": "markdown",
   "id": "73e85d2b",
   "metadata": {},
   "source": [
    "### Exploratory Data Analysis (EDA)"
   ]
  },
  {
   "cell_type": "code",
   "execution_count": 60,
   "id": "6bc9f21f",
   "metadata": {},
   "outputs": [
    {
     "data": {
      "text/html": [
       "<div>\n",
       "<style scoped>\n",
       "    .dataframe tbody tr th:only-of-type {\n",
       "        vertical-align: middle;\n",
       "    }\n",
       "\n",
       "    .dataframe tbody tr th {\n",
       "        vertical-align: top;\n",
       "    }\n",
       "\n",
       "    .dataframe thead th {\n",
       "        text-align: right;\n",
       "    }\n",
       "</style>\n",
       "<table border=\"1\" class=\"dataframe\">\n",
       "  <thead>\n",
       "    <tr style=\"text-align: right;\">\n",
       "      <th></th>\n",
       "      <th>Age</th>\n",
       "      <th>Weight</th>\n",
       "      <th>Salary</th>\n",
       "    </tr>\n",
       "  </thead>\n",
       "  <tbody>\n",
       "    <tr>\n",
       "      <th>count</th>\n",
       "      <td>457.000000</td>\n",
       "      <td>457.000000</td>\n",
       "      <td>4.570000e+02</td>\n",
       "    </tr>\n",
       "    <tr>\n",
       "      <th>mean</th>\n",
       "      <td>26.938731</td>\n",
       "      <td>221.522976</td>\n",
       "      <td>4.842684e+06</td>\n",
       "    </tr>\n",
       "    <tr>\n",
       "      <th>std</th>\n",
       "      <td>4.404016</td>\n",
       "      <td>26.368343</td>\n",
       "      <td>5.165781e+06</td>\n",
       "    </tr>\n",
       "    <tr>\n",
       "      <th>min</th>\n",
       "      <td>19.000000</td>\n",
       "      <td>161.000000</td>\n",
       "      <td>3.088800e+04</td>\n",
       "    </tr>\n",
       "    <tr>\n",
       "      <th>25%</th>\n",
       "      <td>24.000000</td>\n",
       "      <td>200.000000</td>\n",
       "      <td>1.100602e+06</td>\n",
       "    </tr>\n",
       "    <tr>\n",
       "      <th>50%</th>\n",
       "      <td>26.000000</td>\n",
       "      <td>220.000000</td>\n",
       "      <td>2.869440e+06</td>\n",
       "    </tr>\n",
       "    <tr>\n",
       "      <th>75%</th>\n",
       "      <td>30.000000</td>\n",
       "      <td>240.000000</td>\n",
       "      <td>6.331404e+06</td>\n",
       "    </tr>\n",
       "    <tr>\n",
       "      <th>max</th>\n",
       "      <td>40.000000</td>\n",
       "      <td>307.000000</td>\n",
       "      <td>2.500000e+07</td>\n",
       "    </tr>\n",
       "  </tbody>\n",
       "</table>\n",
       "</div>"
      ],
      "text/plain": [
       "              Age      Weight        Salary\n",
       "count  457.000000  457.000000  4.570000e+02\n",
       "mean    26.938731  221.522976  4.842684e+06\n",
       "std      4.404016   26.368343  5.165781e+06\n",
       "min     19.000000  161.000000  3.088800e+04\n",
       "25%     24.000000  200.000000  1.100602e+06\n",
       "50%     26.000000  220.000000  2.869440e+06\n",
       "75%     30.000000  240.000000  6.331404e+06\n",
       "max     40.000000  307.000000  2.500000e+07"
      ]
     },
     "execution_count": 60,
     "metadata": {},
     "output_type": "execute_result"
    }
   ],
   "source": [
    "#Display summary statistics of the 'age', 'weight', and 'salary' columns.\n",
    "df[['Age','Weight','Salary']].describe()\n"
   ]
  },
  {
   "cell_type": "code",
   "execution_count": 61,
   "id": "6b111b6c",
   "metadata": {},
   "outputs": [
    {
     "data": {
      "text/html": [
       "<div>\n",
       "<style scoped>\n",
       "    .dataframe tbody tr th:only-of-type {\n",
       "        vertical-align: middle;\n",
       "    }\n",
       "\n",
       "    .dataframe tbody tr th {\n",
       "        vertical-align: top;\n",
       "    }\n",
       "\n",
       "    .dataframe thead th {\n",
       "        text-align: right;\n",
       "    }\n",
       "</style>\n",
       "<table border=\"1\" class=\"dataframe\">\n",
       "  <thead>\n",
       "    <tr style=\"text-align: right;\">\n",
       "      <th></th>\n",
       "      <th>Age</th>\n",
       "      <th>Weight</th>\n",
       "      <th>Salary</th>\n",
       "    </tr>\n",
       "    <tr>\n",
       "      <th>Position</th>\n",
       "      <th></th>\n",
       "      <th></th>\n",
       "      <th></th>\n",
       "    </tr>\n",
       "  </thead>\n",
       "  <tbody>\n",
       "    <tr>\n",
       "      <th>C</th>\n",
       "      <td>27.371795</td>\n",
       "      <td>254.205128</td>\n",
       "      <td>5.967052e+06</td>\n",
       "    </tr>\n",
       "    <tr>\n",
       "      <th>PF</th>\n",
       "      <td>27.160000</td>\n",
       "      <td>240.430000</td>\n",
       "      <td>4.570889e+06</td>\n",
       "    </tr>\n",
       "    <tr>\n",
       "      <th>PG</th>\n",
       "      <td>26.847826</td>\n",
       "      <td>189.478261</td>\n",
       "      <td>5.067606e+06</td>\n",
       "    </tr>\n",
       "    <tr>\n",
       "      <th>SF</th>\n",
       "      <td>26.858824</td>\n",
       "      <td>221.776471</td>\n",
       "      <td>4.857220e+06</td>\n",
       "    </tr>\n",
       "    <tr>\n",
       "      <th>SG</th>\n",
       "      <td>26.539216</td>\n",
       "      <td>206.686275</td>\n",
       "      <td>4.034356e+06</td>\n",
       "    </tr>\n",
       "  </tbody>\n",
       "</table>\n",
       "</div>"
      ],
      "text/plain": [
       "                Age      Weight        Salary\n",
       "Position                                     \n",
       "C         27.371795  254.205128  5.967052e+06\n",
       "PF        27.160000  240.430000  4.570889e+06\n",
       "PG        26.847826  189.478261  5.067606e+06\n",
       "SF        26.858824  221.776471  4.857220e+06\n",
       "SG        26.539216  206.686275  4.034356e+06"
      ]
     },
     "execution_count": 61,
     "metadata": {},
     "output_type": "execute_result"
    }
   ],
   "source": [
    "#Calculate the average age, weight, and salary of players in each 'position' category.\n",
    "avg_by_pos = df.groupby('Position')[['Age','Weight','Salary']].mean()\n",
    "\n",
    "#display\n",
    "avg_by_pos\n"
   ]
  },
  {
   "cell_type": "code",
   "execution_count": 62,
   "id": "0cb2ded0",
   "metadata": {},
   "outputs": [
    {
     "data": {
      "text/plain": [
       "Index(['Name', 'Team', 'Number', 'Position', 'Age', 'Weight', 'College',\n",
       "       'Salary', 'BMI'],\n",
       "      dtype='object')"
      ]
     },
     "execution_count": 62,
     "metadata": {},
     "output_type": "execute_result"
    }
   ],
   "source": [
    "#get column names\n",
    "df.columns\n"
   ]
  },
  {
   "cell_type": "markdown",
   "id": "9a7f964e",
   "metadata": {},
   "source": [
    "#### Data Visualization"
   ]
  },
  {
   "cell_type": "markdown",
   "id": "1e2aa2cc",
   "metadata": {},
   "source": [
    "#### 1. Age of Players\n",
    "\n"
   ]
  },
  {
   "cell_type": "code",
   "execution_count": 63,
   "id": "56041906",
   "metadata": {},
   "outputs": [
    {
     "data": {
      "image/png": "[encoded data removed]",
      "text/plain": [
       "<Figure size 1000x600 with 1 Axes>"
      ]
     },
     "metadata": {},
     "output_type": "display_data"
    }
   ],
   "source": [
    "#setting the size\n",
    "plt.figure(figsize = (10,6))\n",
    "\n",
    "#creating histogram\n",
    "sns.histplot(df['Age'], bins = 10)\n",
    "\n",
    "#setting the title\n",
    "plt.title('Distribution of Player Ages')\n",
    "\n",
    "#display\n",
    "plt.show()\n"
   ]
  },
  {
   "cell_type": "markdown",
   "id": "a4695f78",
   "metadata": {},
   "source": [
    "Obervation - Most of the players are in the age group 24-26"
   ]
  },
  {
   "cell_type": "markdown",
   "id": "65dd94f2",
   "metadata": {},
   "source": [
    "#### 2. Salaries of Players for each Position"
   ]
  },
  {
   "cell_type": "code",
   "execution_count": 64,
   "id": "685bb9d8",
   "metadata": {},
   "outputs": [
    {
     "data": {
      "image/png": "[encoded data removed]",
      "text/plain": [
       "<Figure size 1000x600 with 1 Axes>"
      ]
     },
     "metadata": {},
     "output_type": "display_data"
    }
   ],
   "source": [
    "#setting the size\n",
    "plt.figure(figsize = (10,6))\n",
    "\n",
    "#creating histogram\n",
    "sns.boxplot(data = df, x= 'Position', y= 'Salary')\n",
    "\n",
    "#setting the title\n",
    "plt.title('Player Salaries by Position')\n",
    "\n",
    "#display\n",
    "plt.show()\n"
   ]
  },
  {
   "cell_type": "markdown",
   "id": "cb9a8059",
   "metadata": {},
   "source": [
    "Observation - The highest salary is for the position 'C'. The minimum and average salaries of all the positions are almost same"
   ]
  },
  {
   "cell_type": "markdown",
   "id": "f44a7ccf",
   "metadata": {},
   "source": [
    "#### 3. Age vs. Salary with a different color for each Position"
   ]
  },
  {
   "cell_type": "code",
   "execution_count": 65,
   "id": "0571a005",
   "metadata": {},
   "outputs": [
    {
     "data": {
      "image/png": "[encoded data removed]",
      "text/plain": [
       "<Figure size 1400x600 with 1 Axes>"
      ]
     },
     "metadata": {},
     "output_type": "display_data"
    }
   ],
   "source": [
    "#setting the size\n",
    "plt.figure(figsize = (14,6))\n",
    "\n",
    "#creating histogram\n",
    "sns.scatterplot(data = df, x= 'Age', y= 'Salary', hue = 'Position')\n",
    "\n",
    "#setting the title\n",
    "plt.title('Age vs Salary by Position')\n",
    "\n",
    "#display\n",
    "plt.show()\n"
   ]
  },
  {
   "cell_type": "markdown",
   "id": "aa9633d1",
   "metadata": {},
   "source": [
    "Observation - The salary of players are increasing with Age and reaches maximum during the Age group 30-31 and then their salaries are decreasing. "
   ]
  },
  {
   "cell_type": "markdown",
   "id": "c2ce62d5",
   "metadata": {},
   "source": [
    "#### 4.Top Players based on Salary"
   ]
  },
  {
   "cell_type": "code",
   "execution_count": 66,
   "id": "45601cc4",
   "metadata": {},
   "outputs": [
    {
     "data": {
      "text/html": [
       "<div>\n",
       "<style scoped>\n",
       "    .dataframe tbody tr th:only-of-type {\n",
       "        vertical-align: middle;\n",
       "    }\n",
       "\n",
       "    .dataframe tbody tr th {\n",
       "        vertical-align: top;\n",
       "    }\n",
       "\n",
       "    .dataframe thead th {\n",
       "        text-align: right;\n",
       "    }\n",
       "</style>\n",
       "<table border=\"1\" class=\"dataframe\">\n",
       "  <thead>\n",
       "    <tr style=\"text-align: right;\">\n",
       "      <th></th>\n",
       "      <th>Name</th>\n",
       "      <th>Team</th>\n",
       "      <th>Number</th>\n",
       "      <th>Position</th>\n",
       "      <th>Age</th>\n",
       "      <th>Weight</th>\n",
       "      <th>College</th>\n",
       "      <th>Salary</th>\n",
       "      <th>BMI</th>\n",
       "    </tr>\n",
       "  </thead>\n",
       "  <tbody>\n",
       "    <tr>\n",
       "      <th>109</th>\n",
       "      <td>Kobe Bryant</td>\n",
       "      <td>Los Angeles Lakers</td>\n",
       "      <td>24</td>\n",
       "      <td>SF</td>\n",
       "      <td>37</td>\n",
       "      <td>212</td>\n",
       "      <td>Others</td>\n",
       "      <td>25000000.0</td>\n",
       "      <td>30.415510</td>\n",
       "    </tr>\n",
       "    <tr>\n",
       "      <th>169</th>\n",
       "      <td>LeBron James</td>\n",
       "      <td>Cleveland Cavaliers</td>\n",
       "      <td>23</td>\n",
       "      <td>SF</td>\n",
       "      <td>31</td>\n",
       "      <td>250</td>\n",
       "      <td>Others</td>\n",
       "      <td>22970500.0</td>\n",
       "      <td>35.867347</td>\n",
       "    </tr>\n",
       "    <tr>\n",
       "      <th>33</th>\n",
       "      <td>Carmelo Anthony</td>\n",
       "      <td>New York Knicks</td>\n",
       "      <td>7</td>\n",
       "      <td>SF</td>\n",
       "      <td>32</td>\n",
       "      <td>240</td>\n",
       "      <td>Syracuse</td>\n",
       "      <td>22875000.0</td>\n",
       "      <td>34.432653</td>\n",
       "    </tr>\n",
       "    <tr>\n",
       "      <th>251</th>\n",
       "      <td>Dwight Howard</td>\n",
       "      <td>Houston Rockets</td>\n",
       "      <td>12</td>\n",
       "      <td>C</td>\n",
       "      <td>30</td>\n",
       "      <td>265</td>\n",
       "      <td>Others</td>\n",
       "      <td>22359364.0</td>\n",
       "      <td>38.019388</td>\n",
       "    </tr>\n",
       "    <tr>\n",
       "      <th>339</th>\n",
       "      <td>Chris Bosh</td>\n",
       "      <td>Miami Heat</td>\n",
       "      <td>1</td>\n",
       "      <td>PF</td>\n",
       "      <td>32</td>\n",
       "      <td>235</td>\n",
       "      <td>Georgia Tech</td>\n",
       "      <td>22192730.0</td>\n",
       "      <td>33.715306</td>\n",
       "    </tr>\n",
       "    <tr>\n",
       "      <th>100</th>\n",
       "      <td>Chris Paul</td>\n",
       "      <td>Los Angeles Clippers</td>\n",
       "      <td>3</td>\n",
       "      <td>PG</td>\n",
       "      <td>31</td>\n",
       "      <td>175</td>\n",
       "      <td>Wake Forest</td>\n",
       "      <td>21468695.0</td>\n",
       "      <td>25.107143</td>\n",
       "    </tr>\n",
       "    <tr>\n",
       "      <th>414</th>\n",
       "      <td>Kevin Durant</td>\n",
       "      <td>Oklahoma City Thunder</td>\n",
       "      <td>35</td>\n",
       "      <td>SF</td>\n",
       "      <td>27</td>\n",
       "      <td>240</td>\n",
       "      <td>Texas</td>\n",
       "      <td>20158622.0</td>\n",
       "      <td>34.432653</td>\n",
       "    </tr>\n",
       "    <tr>\n",
       "      <th>164</th>\n",
       "      <td>Derrick Rose</td>\n",
       "      <td>Chicago Bulls</td>\n",
       "      <td>1</td>\n",
       "      <td>PG</td>\n",
       "      <td>27</td>\n",
       "      <td>190</td>\n",
       "      <td>Memphis</td>\n",
       "      <td>20093064.0</td>\n",
       "      <td>27.259184</td>\n",
       "    </tr>\n",
       "    <tr>\n",
       "      <th>349</th>\n",
       "      <td>Dwyane Wade</td>\n",
       "      <td>Miami Heat</td>\n",
       "      <td>3</td>\n",
       "      <td>SG</td>\n",
       "      <td>34</td>\n",
       "      <td>220</td>\n",
       "      <td>Marquette</td>\n",
       "      <td>20000000.0</td>\n",
       "      <td>31.563265</td>\n",
       "    </tr>\n",
       "    <tr>\n",
       "      <th>98</th>\n",
       "      <td>DeAndre Jordan</td>\n",
       "      <td>Los Angeles Clippers</td>\n",
       "      <td>6</td>\n",
       "      <td>C</td>\n",
       "      <td>27</td>\n",
       "      <td>265</td>\n",
       "      <td>Texas A&amp;M</td>\n",
       "      <td>19689000.0</td>\n",
       "      <td>38.019388</td>\n",
       "    </tr>\n",
       "  </tbody>\n",
       "</table>\n",
       "</div>"
      ],
      "text/plain": [
       "                Name                   Team  Number Position  Age  Weight  \\\n",
       "109      Kobe Bryant     Los Angeles Lakers      24       SF   37     212   \n",
       "169     LeBron James    Cleveland Cavaliers      23       SF   31     250   \n",
       "33   Carmelo Anthony        New York Knicks       7       SF   32     240   \n",
       "251    Dwight Howard        Houston Rockets      12        C   30     265   \n",
       "339       Chris Bosh             Miami Heat       1       PF   32     235   \n",
       "100       Chris Paul   Los Angeles Clippers       3       PG   31     175   \n",
       "414     Kevin Durant  Oklahoma City Thunder      35       SF   27     240   \n",
       "164     Derrick Rose          Chicago Bulls       1       PG   27     190   \n",
       "349      Dwyane Wade             Miami Heat       3       SG   34     220   \n",
       "98    DeAndre Jordan   Los Angeles Clippers       6        C   27     265   \n",
       "\n",
       "          College      Salary        BMI  \n",
       "109        Others  25000000.0  30.415510  \n",
       "169        Others  22970500.0  35.867347  \n",
       "33       Syracuse  22875000.0  34.432653  \n",
       "251        Others  22359364.0  38.019388  \n",
       "339  Georgia Tech  22192730.0  33.715306  \n",
       "100   Wake Forest  21468695.0  25.107143  \n",
       "414         Texas  20158622.0  34.432653  \n",
       "164       Memphis  20093064.0  27.259184  \n",
       "349     Marquette  20000000.0  31.563265  \n",
       "98      Texas A&M  19689000.0  38.019388  "
      ]
     },
     "execution_count": 66,
     "metadata": {},
     "output_type": "execute_result"
    }
   ],
   "source": [
    "#create a new dataframe with top 10 players based on salary\n",
    "top_players = df.sort_values(by = 'Salary', ascending = False).head(10)\n",
    "\n",
    "top_players\n"
   ]
  },
  {
   "cell_type": "code",
   "execution_count": 67,
   "id": "00aee2e3",
   "metadata": {},
   "outputs": [
    {
     "data": {
      "image/png": "[encoded data removed]",
      "text/plain": [
       "<Figure size 1400x600 with 1 Axes>"
      ]
     },
     "metadata": {},
     "output_type": "display_data"
    }
   ],
   "source": [
    "#setting the size\n",
    "plt.figure(figsize = (14,6))\n",
    "\n",
    "#creating histogram\n",
    "sns.barplot(data = top_players, x= 'Name', y= 'Salary')\n",
    "\n",
    "#setting the title\n",
    "plt.title('Top 10 Players based on Salary')\n",
    "\n",
    "#display\n",
    "plt.show()\n"
   ]
  },
  {
   "cell_type": "markdown",
   "id": "e703f4a5",
   "metadata": {},
   "source": [
    "Observation - The payer 'Kobe Bryant' is getting the highest salary"
   ]
  },
  {
   "cell_type": "markdown",
   "id": "331a76e1",
   "metadata": {},
   "source": [
    "#### 5.Top Players based on BMI"
   ]
  },
  {
   "cell_type": "code",
   "execution_count": 68,
   "id": "b8185b31",
   "metadata": {},
   "outputs": [
    {
     "data": {
      "text/html": [
       "<div>\n",
       "<style scoped>\n",
       "    .dataframe tbody tr th:only-of-type {\n",
       "        vertical-align: middle;\n",
       "    }\n",
       "\n",
       "    .dataframe tbody tr th {\n",
       "        vertical-align: top;\n",
       "    }\n",
       "\n",
       "    .dataframe thead th {\n",
       "        text-align: right;\n",
       "    }\n",
       "</style>\n",
       "<table border=\"1\" class=\"dataframe\">\n",
       "  <thead>\n",
       "    <tr style=\"text-align: right;\">\n",
       "      <th></th>\n",
       "      <th>Name</th>\n",
       "      <th>Team</th>\n",
       "      <th>Number</th>\n",
       "      <th>Position</th>\n",
       "      <th>Age</th>\n",
       "      <th>Weight</th>\n",
       "      <th>College</th>\n",
       "      <th>Salary</th>\n",
       "      <th>BMI</th>\n",
       "    </tr>\n",
       "  </thead>\n",
       "  <tbody>\n",
       "    <tr>\n",
       "      <th>405</th>\n",
       "      <td>Nikola Pekovic</td>\n",
       "      <td>Minnesota Timberwolves</td>\n",
       "      <td>14</td>\n",
       "      <td>C</td>\n",
       "      <td>30</td>\n",
       "      <td>307</td>\n",
       "      <td>Others</td>\n",
       "      <td>12100000.0</td>\n",
       "      <td>44.045102</td>\n",
       "    </tr>\n",
       "    <tr>\n",
       "      <th>302</th>\n",
       "      <td>Boban Marjanovic</td>\n",
       "      <td>San Antonio Spurs</td>\n",
       "      <td>40</td>\n",
       "      <td>C</td>\n",
       "      <td>27</td>\n",
       "      <td>290</td>\n",
       "      <td>Others</td>\n",
       "      <td>1200000.0</td>\n",
       "      <td>41.606122</td>\n",
       "    </tr>\n",
       "    <tr>\n",
       "      <th>330</th>\n",
       "      <td>Al Jefferson</td>\n",
       "      <td>Charlotte Hornets</td>\n",
       "      <td>25</td>\n",
       "      <td>C</td>\n",
       "      <td>31</td>\n",
       "      <td>289</td>\n",
       "      <td>Others</td>\n",
       "      <td>13500000.0</td>\n",
       "      <td>41.462653</td>\n",
       "    </tr>\n",
       "    <tr>\n",
       "      <th>395</th>\n",
       "      <td>Jusuf Nurkic</td>\n",
       "      <td>Denver Nuggets</td>\n",
       "      <td>23</td>\n",
       "      <td>C</td>\n",
       "      <td>21</td>\n",
       "      <td>280</td>\n",
       "      <td>Others</td>\n",
       "      <td>1842000.0</td>\n",
       "      <td>40.171429</td>\n",
       "    </tr>\n",
       "    <tr>\n",
       "      <th>188</th>\n",
       "      <td>Andre Drummond</td>\n",
       "      <td>Detroit Pistons</td>\n",
       "      <td>0</td>\n",
       "      <td>C</td>\n",
       "      <td>22</td>\n",
       "      <td>279</td>\n",
       "      <td>Connecticut</td>\n",
       "      <td>3272091.0</td>\n",
       "      <td>40.027959</td>\n",
       "    </tr>\n",
       "    <tr>\n",
       "      <th>41</th>\n",
       "      <td>Kevin Seraphin</td>\n",
       "      <td>New York Knicks</td>\n",
       "      <td>1</td>\n",
       "      <td>C</td>\n",
       "      <td>26</td>\n",
       "      <td>278</td>\n",
       "      <td>Others</td>\n",
       "      <td>2814000.0</td>\n",
       "      <td>39.884490</td>\n",
       "    </tr>\n",
       "    <tr>\n",
       "      <th>56</th>\n",
       "      <td>Jahlil Okafor</td>\n",
       "      <td>Philadelphia 76ers</td>\n",
       "      <td>8</td>\n",
       "      <td>C</td>\n",
       "      <td>20</td>\n",
       "      <td>275</td>\n",
       "      <td>Duke</td>\n",
       "      <td>4582680.0</td>\n",
       "      <td>39.454082</td>\n",
       "    </tr>\n",
       "    <tr>\n",
       "      <th>237</th>\n",
       "      <td>Zaza Pachulia</td>\n",
       "      <td>Dallas Mavericks</td>\n",
       "      <td>27</td>\n",
       "      <td>C</td>\n",
       "      <td>32</td>\n",
       "      <td>275</td>\n",
       "      <td>Others</td>\n",
       "      <td>5200000.0</td>\n",
       "      <td>39.454082</td>\n",
       "    </tr>\n",
       "    <tr>\n",
       "      <th>176</th>\n",
       "      <td>Timofey Mozgov</td>\n",
       "      <td>Cleveland Cavaliers</td>\n",
       "      <td>20</td>\n",
       "      <td>C</td>\n",
       "      <td>29</td>\n",
       "      <td>275</td>\n",
       "      <td>Others</td>\n",
       "      <td>4950000.0</td>\n",
       "      <td>39.454082</td>\n",
       "    </tr>\n",
       "    <tr>\n",
       "      <th>155</th>\n",
       "      <td>Cristiano Felicio</td>\n",
       "      <td>Chicago Bulls</td>\n",
       "      <td>6</td>\n",
       "      <td>PF</td>\n",
       "      <td>23</td>\n",
       "      <td>275</td>\n",
       "      <td>Others</td>\n",
       "      <td>525093.0</td>\n",
       "      <td>39.454082</td>\n",
       "    </tr>\n",
       "  </tbody>\n",
       "</table>\n",
       "</div>"
      ],
      "text/plain": [
       "                  Name                    Team  Number Position  Age  Weight  \\\n",
       "405     Nikola Pekovic  Minnesota Timberwolves      14        C   30     307   \n",
       "302   Boban Marjanovic       San Antonio Spurs      40        C   27     290   \n",
       "330       Al Jefferson       Charlotte Hornets      25        C   31     289   \n",
       "395       Jusuf Nurkic          Denver Nuggets      23        C   21     280   \n",
       "188     Andre Drummond         Detroit Pistons       0        C   22     279   \n",
       "41      Kevin Seraphin         New York Knicks       1        C   26     278   \n",
       "56       Jahlil Okafor      Philadelphia 76ers       8        C   20     275   \n",
       "237      Zaza Pachulia        Dallas Mavericks      27        C   32     275   \n",
       "176     Timofey Mozgov     Cleveland Cavaliers      20        C   29     275   \n",
       "155  Cristiano Felicio           Chicago Bulls       6       PF   23     275   \n",
       "\n",
       "         College      Salary        BMI  \n",
       "405       Others  12100000.0  44.045102  \n",
       "302       Others   1200000.0  41.606122  \n",
       "330       Others  13500000.0  41.462653  \n",
       "395       Others   1842000.0  40.171429  \n",
       "188  Connecticut   3272091.0  40.027959  \n",
       "41        Others   2814000.0  39.884490  \n",
       "56          Duke   4582680.0  39.454082  \n",
       "237       Others   5200000.0  39.454082  \n",
       "176       Others   4950000.0  39.454082  \n",
       "155       Others    525093.0  39.454082  "
      ]
     },
     "execution_count": 68,
     "metadata": {},
     "output_type": "execute_result"
    }
   ],
   "source": [
    "#create a new dataframe with top 10 players based on salary\n",
    "top_players = df.sort_values(by = 'BMI', ascending = False).head(10)\n",
    "\n",
    "top_players\n"
   ]
  },
  {
   "cell_type": "code",
   "execution_count": 69,
   "id": "416b293e",
   "metadata": {},
   "outputs": [
    {
     "data": {
      "image/png": "[encoded data removed]",
      "text/plain": [
       "<Figure size 1400x600 with 1 Axes>"
      ]
     },
     "metadata": {},
     "output_type": "display_data"
    }
   ],
   "source": [
    "#setting the size\n",
    "plt.figure(figsize = (14,6))\n",
    "\n",
    "#creating histogram\n",
    "sns.barplot(data = top_players, x= 'Name', y= 'BMI')\n",
    "\n",
    "#setting the title\n",
    "plt.title('Top 10 Players based on BMI')\n",
    "\n",
    "#display\n",
    "plt.show()\n"
   ]
  },
  {
   "cell_type": "markdown",
   "id": "9a59eaee",
   "metadata": {},
   "source": [
    "Observation - The payer 'Nikola Pekovic' has the highest BMI"
   ]
  },
  {
   "cell_type": "markdown",
   "id": "083521bd",
   "metadata": {},
   "source": [
    "#### 6. College Analysis"
   ]
  },
  {
   "cell_type": "code",
   "execution_count": 70,
   "id": "abc86389",
   "metadata": {},
   "outputs": [
    {
     "data": {
      "text/plain": [
       "College\n",
       "Others             84\n",
       "Kentucky           22\n",
       "Duke               20\n",
       "Kansas             18\n",
       "North Carolina     16\n",
       "                   ..\n",
       "Utah Valley         1\n",
       "Cleveland State     1\n",
       "Iowa State          1\n",
       "Florida State       1\n",
       "Baylor              1\n",
       "Name: count, Length: 119, dtype: int64"
      ]
     },
     "execution_count": 70,
     "metadata": {},
     "output_type": "execute_result"
    }
   ],
   "source": [
    "#create a new dataframe with top colleges based on the most represented players\n",
    "colleges = df['College'].value_counts()\n",
    "colleges\n"
   ]
  },
  {
   "cell_type": "markdown",
   "id": "2af6ff97",
   "metadata": {},
   "source": [
    "Observation - The value 'Others' to be dropped as it is an irrelevant data"
   ]
  },
  {
   "cell_type": "code",
   "execution_count": 71,
   "id": "1bedf4dc",
   "metadata": {},
   "outputs": [
    {
     "data": {
      "text/plain": [
       "College\n",
       "Kentucky           22\n",
       "Duke               20\n",
       "Kansas             18\n",
       "North Carolina     16\n",
       "UCLA               15\n",
       "                   ..\n",
       "Utah Valley         1\n",
       "Cleveland State     1\n",
       "Iowa State          1\n",
       "Florida State       1\n",
       "Baylor              1\n",
       "Name: count, Length: 118, dtype: int64"
      ]
     },
     "execution_count": 71,
     "metadata": {},
     "output_type": "execute_result"
    }
   ],
   "source": [
    "#remove the value 'Others'\n",
    "colleges.drop('Others', inplace = True)\n",
    "colleges\n"
   ]
  },
  {
   "cell_type": "code",
   "execution_count": 72,
   "id": "dca31944",
   "metadata": {},
   "outputs": [
    {
     "data": {
      "text/plain": [
       "College\n",
       "Kentucky          22\n",
       "Duke              20\n",
       "Kansas            18\n",
       "North Carolina    16\n",
       "UCLA              15\n",
       "Name: count, dtype: int64"
      ]
     },
     "execution_count": 72,
     "metadata": {},
     "output_type": "execute_result"
    }
   ],
   "source": [
    "#get the top 5 colleges\n",
    "top_colleges = colleges.head(5)\n",
    "top_colleges\n"
   ]
  },
  {
   "cell_type": "code",
   "execution_count": 73,
   "id": "18b9937c",
   "metadata": {},
   "outputs": [
    {
     "data": {
      "image/png": "[encoded data removed]",
      "text/plain": [
       "<Figure size 1000x600 with 1 Axes>"
      ]
     },
     "metadata": {},
     "output_type": "display_data"
    }
   ],
   "source": [
    "#setting the size\n",
    "plt.figure(figsize = (10,6))\n",
    "\n",
    "#creating barplot\n",
    "ax = sns.barplot(top_colleges)\n",
    "\n",
    "#display the count in each bar\n",
    "for bars in ax.containers:\n",
    "    ax.bar_label(bars)\n",
    "\n",
    "#setting x and y labels\n",
    "plt.xlabel(\"Count\")\n",
    "plt.ylabel(\"College\")\n",
    "\n",
    "#setting the title\n",
    "plt.title('Top 5 Colleges')\n",
    "\n",
    "#display\n",
    "plt.show()\n"
   ]
  },
  {
   "cell_type": "markdown",
   "id": "93598e8b",
   "metadata": {},
   "source": [
    "Observation - The college 'Kentuky'  represents the most number of players (22)"
   ]
  },
  {
   "cell_type": "markdown",
   "id": "099899c1",
   "metadata": {},
   "source": [
    "#### 7. Position Distribution\n"
   ]
  },
  {
   "cell_type": "code",
   "execution_count": 74,
   "id": "2042a56e",
   "metadata": {},
   "outputs": [
    {
     "data": {
      "text/plain": [
       "Position\n",
       "SG    102\n",
       "PF    100\n",
       "PG     92\n",
       "SF     85\n",
       "C      78\n",
       "Name: count, dtype: int64"
      ]
     },
     "execution_count": 74,
     "metadata": {},
     "output_type": "execute_result"
    }
   ],
   "source": [
    "#find the distribution of players across different 'positions'.\n",
    "player_pos_count = df['Position'].value_counts()\n",
    "player_pos_count\n"
   ]
  },
  {
   "cell_type": "code",
   "execution_count": 75,
   "id": "f42f16e0",
   "metadata": {},
   "outputs": [
    {
     "data": {
      "image/png": "[encoded data removed]",
      "text/plain": [
       "<Figure size 1000x600 with 1 Axes>"
      ]
     },
     "metadata": {},
     "output_type": "display_data"
    }
   ],
   "source": [
    "#setting the size\n",
    "plt.figure(figsize = (10,6))\n",
    "\n",
    "#creating piechart\n",
    "plt.pie(player_pos_count, labels = player_pos_count.index, autopct='%1.1f%%', startangle=90)\n",
    "\n",
    "#setting the title\n",
    "plt.title('Position Distribution of Players')\n",
    "\n",
    "#display\n",
    "plt.show()\n"
   ]
  },
  {
   "cell_type": "markdown",
   "id": "902e264d",
   "metadata": {},
   "source": [
    "Observation - Most of the players are in the position 'SG' "
   ]
  },
  {
   "cell_type": "markdown",
   "id": "dfb2331f",
   "metadata": {},
   "source": [
    "#### 8. Team Analysis"
   ]
  },
  {
   "cell_type": "code",
   "execution_count": 76,
   "id": "45d1e91e",
   "metadata": {},
   "outputs": [
    {
     "data": {
      "text/plain": [
       "array(['Boston Celtics', 'Brooklyn Nets', 'New York Knicks',\n",
       "       'Philadelphia 76ers', 'Toronto Raptors', 'Golden State Warriors',\n",
       "       'Los Angeles Clippers', 'Los Angeles Lakers', 'Phoenix Suns',\n",
       "       'Sacramento Kings', 'Chicago Bulls', 'Cleveland Cavaliers',\n",
       "       'Detroit Pistons', 'Indiana Pacers', 'Milwaukee Bucks',\n",
       "       'Dallas Mavericks', 'Houston Rockets', 'Memphis Grizzlies',\n",
       "       'New Orleans Pelicans', 'San Antonio Spurs', 'Atlanta Hawks',\n",
       "       'Charlotte Hornets', 'Miami Heat', 'Orlando Magic',\n",
       "       'Washington Wizards', 'Denver Nuggets', 'Minnesota Timberwolves',\n",
       "       'Oklahoma City Thunder', 'Portland Trail Blazers', 'Utah Jazz'],\n",
       "      dtype=object)"
      ]
     },
     "execution_count": 76,
     "metadata": {},
     "output_type": "execute_result"
    }
   ],
   "source": [
    "#Teams\n",
    "df['Team'].unique()\n"
   ]
  },
  {
   "cell_type": "code",
   "execution_count": 77,
   "id": "aa6e520d",
   "metadata": {},
   "outputs": [
    {
     "data": {
      "text/plain": [
       "Team\n",
       "Cleveland Cavaliers       7.455425e+06\n",
       "Los Angeles Clippers      6.323643e+06\n",
       "Oklahoma City Thunder     6.251020e+06\n",
       "Miami Heat                6.146736e+06\n",
       "Golden State Warriors     5.924600e+06\n",
       "Chicago Bulls             5.785559e+06\n",
       "San Antonio Spurs         5.629516e+06\n",
       "Memphis Grizzlies         5.328979e+06\n",
       "Charlotte Hornets         5.222728e+06\n",
       "Washington Wizards        5.088576e+06\n",
       "Houston Rockets           5.018868e+06\n",
       "Atlanta Hawks             4.860197e+06\n",
       "Los Angeles Lakers        4.784695e+06\n",
       "Sacramento Kings          4.778911e+06\n",
       "Dallas Mavericks          4.746582e+06\n",
       "Toronto Raptors           4.741174e+06\n",
       "Minnesota Timberwolves    4.610884e+06\n",
       "New York Knicks           4.581494e+06\n",
       "Detroit Pistons           4.477884e+06\n",
       "Indiana Pacers            4.450122e+06\n",
       "New Orleans Pelicans      4.355304e+06\n",
       "Milwaukee Bucks           4.350220e+06\n",
       "Denver Nuggets            4.330974e+06\n",
       "Orlando Magic             4.297248e+06\n",
       "Phoenix Suns              4.229676e+06\n",
       "Boston Celtics            4.225583e+06\n",
       "Utah Jazz                 4.204006e+06\n",
       "Brooklyn Nets             3.501898e+06\n",
       "Portland Trail Blazers    3.220121e+06\n",
       "Philadelphia 76ers        2.389039e+06\n",
       "Name: Salary, dtype: float64"
      ]
     },
     "execution_count": 77,
     "metadata": {},
     "output_type": "execute_result"
    }
   ],
   "source": [
    "#average salary of players in each team\n",
    "avg_sal = df.groupby(\"Team\")['Salary'].mean().sort_values(ascending = False)\n",
    "avg_sal\n"
   ]
  },
  {
   "cell_type": "code",
   "execution_count": 79,
   "id": "9186a6e0",
   "metadata": {},
   "outputs": [
    {
     "data": {
      "image/png": "[encoded data removed]",
      "text/plain": [
       "<Figure size 1000x600 with 1 Axes>"
      ]
     },
     "metadata": {},
     "output_type": "display_data"
    }
   ],
   "source": [
    "#setting the size\n",
    "plt.figure(figsize = (10,6))\n",
    "\n",
    "#creating barplot\n",
    "ax = sns.barplot(avg_sal)\n",
    "\n",
    "#setting x and y labels\n",
    "plt.xlabel(\"Average Salary\")\n",
    "plt.ylabel(\"Team\")\n",
    "\n",
    "#setting the title\n",
    "plt.title('Average Salary of each Team')\n",
    "\n",
    "#display\n",
    "plt.show()"
   ]
  },
  {
   "cell_type": "markdown",
   "id": "2e1f326b",
   "metadata": {},
   "source": [
    "Observation - Considering the average salary of players, the team - 'Cleveland Cavaliers' is in the top position and the team 'Philadelphia 76ers' is in the last position."
   ]
  },
  {
   "cell_type": "markdown",
   "id": "a0ac3762",
   "metadata": {},
   "source": [
    "### Conclusions "
   ]
  },
  {
   "cell_type": "markdown",
   "id": "95ab5098",
   "metadata": {},
   "source": [
    "- Most of the players are in the age group 24-26 and in the position 'SG'\n",
    "- The payer 'Kobe Bryant' is getting the highest salary and the payer 'Nikola Pekovic' has the highest BMI\n",
    "- The minimum and average salaries of all the positions are almost same. The salary of players are increasing with Age and         reaches maximum during the Age group 30-31 and then their salaries are decreasing\n",
    "- The highest salary is for the position 'C'\n",
    "- Considering the average salary of players, the team - 'Cleveland Cavaliers' is in the top position and the team                 'Philadelphia76ers' is in the last position\n",
    "- The college 'Kentuky' represents the most number of players (22)\n"
   ]
  }
 ],
 "metadata": {
  "kernelspec": {
   "display_name": "Python 3 (ipykernel)",
   "language": "python",
   "name": "python3"
  },
  "language_info": {
   "codemirror_mode": {
    "name": "ipython",
    "version": 3
   },
   "file_extension": ".py",
   "mimetype": "text/x-python",
   "name": "python",
   "nbconvert_exporter": "python",
   "pygments_lexer": "ipython3",
   "version": "3.11.4"
  }
 },
 "nbformat": 4,
 "nbformat_minor": 5
}
